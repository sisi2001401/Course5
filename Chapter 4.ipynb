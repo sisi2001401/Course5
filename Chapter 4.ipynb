{
 "cells": [
  {
   "cell_type": "code",
   "execution_count": 2,
   "metadata": {},
   "outputs": [
    {
     "name": "stdout",
     "output_type": "stream",
     "text": [
      "Hello There!\n"
     ]
    }
   ],
   "source": [
    "def SayHello ():\n",
    "    print('Hello There!')\n",
    "SayHello()"
   ]
  },
  {
   "cell_type": "code",
   "execution_count": 3,
   "metadata": {},
   "outputs": [
    {
     "data": {
      "text/plain": [
       "3"
      ]
     },
     "execution_count": 3,
     "metadata": {},
     "output_type": "execute_result"
    }
   ],
   "source": [
    "def DoSum (Value1,Value2):\n",
    "    return Value1 + Value2\n",
    "DoSum(1,2)"
   ]
  },
  {
   "cell_type": "code",
   "execution_count": 6,
   "metadata": {},
   "outputs": [
    {
     "name": "stdout",
     "output_type": "stream",
     "text": [
      "2 + 3 = 5\n",
      "2 + 3 = 5\n"
     ]
    }
   ],
   "source": [
    "def DisplaySum(Value1, Value2):\n",
    "    print(str(Value1)+' + '+ str(Value2) + ' = ' + str((Value1 + Value2)))\n",
    "DisplaySum(2,3)\n",
    "DisplaySum(Value2=3,Value1=2)"
   ]
  },
  {
   "cell_type": "code",
   "execution_count": 9,
   "metadata": {},
   "outputs": [
    {
     "name": "stdout",
     "output_type": "stream",
     "text": [
      "No Value Supplied\n",
      "Howdy!\n"
     ]
    }
   ],
   "source": [
    "def SayHello(Greeting = \"No Value Supplied\"):\n",
    "    print(Greeting)\n",
    "SayHello()\n",
    "SayHello(\"Howdy!\")"
   ]
  },
  {
   "cell_type": "code",
   "execution_count": 12,
   "metadata": {},
   "outputs": [
    {
     "name": "stdout",
     "output_type": "stream",
     "text": [
      "You passed 3 arguments.  ('Hello', 1, True)\n"
     ]
    }
   ],
   "source": [
    "def DisplayMulti(ArgCount = 0, *VarArgs):\n",
    "    print('You passed ' + str(ArgCount) + ' arguments. ', VarArgs)\n",
    "DisplayMulti(3,'Hello',1,True)"
   ]
  },
  {
   "cell_type": "code",
   "execution_count": 13,
   "metadata": {},
   "outputs": [
    {
     "name": "stdout",
     "output_type": "stream",
     "text": [
      "Value is somthing else.\n",
      "It equals 1\n",
      "Value equals 5!\n",
      "Value equals 6!\n"
     ]
    }
   ],
   "source": [
    "def TestValue(Value):\n",
    "    if Value == 5:\n",
    "        print('Value equals 5!')\n",
    "    elif Value == 6:\n",
    "        print('Value equals 6!')\n",
    "    else:\n",
    "        print('Value is somthing else.')\n",
    "        print('It equals ' + str(Value))\n",
    "TestValue(1)\n",
    "TestValue(5)\n",
    "TestValue(6)"
   ]
  },
  {
   "cell_type": "code",
   "execution_count": 3,
   "metadata": {},
   "outputs": [
    {
     "name": "stdout",
     "output_type": "stream",
     "text": [
      "Type a number between 1 and 10: 5\n",
      "Type a number between 1 and 10: 5\n",
      "Your secret number is 25\n"
     ]
    }
   ],
   "source": [
    "def SecretNumber():\n",
    "    One = int (input (\"Type a number between 1 and 10: \"))\n",
    "    Two = int (input (\"Type a number between 1 and 10: \"))\n",
    "    \n",
    "    if (One >= 1) and (One <= 10):\n",
    "        if (Two >= 1) and (Two <= 10):\n",
    "            print('Your secret number is ' + str(One * Two))\n",
    "        else:\n",
    "            print(\"Incorrect second value!\")\n",
    "    else:\n",
    "        print(\"Incorrect first value!\")\n",
    "        \n",
    "SecretNumber()"
   ]
  },
  {
   "cell_type": "code",
   "execution_count": 6,
   "metadata": {},
   "outputs": [
    {
     "name": "stdout",
     "output_type": "stream",
     "text": [
      "Good Argument: Hello\n",
      "Good Argument: Goodbye\n",
      "Good Argument: First\n",
      "Good Argument: Last\n",
      "Good Argument: Hello\n",
      "Good Argument: Goodbye\n"
     ]
    }
   ],
   "source": [
    "def DisplayMulti(*VarArgs):\n",
    "    for Arg in VarArgs:\n",
    "        if Arg.upper() == 'CONT':\n",
    "            continue\n",
    "            print('Continue Argument: ' + Arg)\n",
    "        elif Arg.upper() == 'BREAK':\n",
    "            break\n",
    "            print('Break Argument: ' + Arg)\n",
    "        print('Good Argument: ' + Arg)\n",
    "        \n",
    "DisplayMulti('Hello','Goodbye','First','Last')\n",
    "DisplayMulti('Hello','Cont','Goodbye','Break','Last')"
   ]
  },
  {
   "cell_type": "code",
   "execution_count": 9,
   "metadata": {},
   "outputs": [
    {
     "name": "stdout",
     "output_type": "stream",
     "text": [
      "Type a number between 1 and 10: 20\n",
      "Type a number between 1 and 10: 10\n",
      "Incorrect first value!\n",
      "Try again!\n",
      "Type a number between 1 and 10: 10\n",
      "Type a number between 1 and 10: 20\n",
      "Incorrect second value!\n",
      "Try again!\n",
      "Type a number between 1 and 10: 3\n",
      "Type a number between 1 and 10: 3\n",
      "Your secret number is 9\n"
     ]
    }
   ],
   "source": [
    "def SecretNumber():\n",
    "    GotIt = False\n",
    "    while GotIt == False:\n",
    "        One = int (input (\"Type a number between 1 and 10: \"))\n",
    "        Two = int (input (\"Type a number between 1 and 10: \"))\n",
    "        \n",
    "        if (One >= 1) and (One <= 10):\n",
    "            if (Two >= 1) and (Two <= 10):\n",
    "                print('Your secret number is ' + str(One * Two))\n",
    "                GotIt = True\n",
    "                continue\n",
    "            else:\n",
    "                print(\"Incorrect second value!\")\n",
    "        else:\n",
    "            print(\"Incorrect first value!\")\n",
    "        print(\"Try again!\")\n",
    "        \n",
    "SecretNumber()"
   ]
  },
  {
   "cell_type": "code",
   "execution_count": 21,
   "metadata": {},
   "outputs": [
    {
     "data": {
      "text/plain": [
       "True"
      ]
     },
     "execution_count": 21,
     "metadata": {},
     "output_type": "execute_result"
    }
   ],
   "source": [
    "#from sets import Set\n",
    "SetA = set(['Red','Blue','Green','Black'])\n",
    "SetB = set(['Black','Green','Yellow','Orange'])\n",
    "SetX = SetA.union(SetB)\n",
    "SetY = SetA.intersection(SetB)\n",
    "SetZ = SetA.difference(SetB)\n",
    "SetX\n",
    "SetY\n",
    "SetZ\n",
    "SetA.issuperset(SetY)"
   ]
  },
  {
   "cell_type": "code",
   "execution_count": 1,
   "metadata": {},
   "outputs": [
    {
     "data": {
      "text/plain": [
       "[0, 1, 2, 3, 4, 5, 6, 7]"
      ]
     },
     "execution_count": 1,
     "metadata": {},
     "output_type": "execute_result"
    }
   ],
   "source": [
    "ListA = [0,1,2,3]\n",
    "ListB = [4,5,6,7]\n",
    "ListA.extend(ListB)\n",
    "ListA"
   ]
  },
  {
   "cell_type": "code",
   "execution_count": 3,
   "metadata": {},
   "outputs": [
    {
     "data": {
      "text/plain": [
       "[0, 1, 2, 3, 4, 5, 6, 7, -5, -5]"
      ]
     },
     "execution_count": 3,
     "metadata": {},
     "output_type": "execute_result"
    }
   ],
   "source": [
    "ListA.append(-5)\n",
    "ListA"
   ]
  },
  {
   "cell_type": "code",
   "execution_count": 4,
   "metadata": {},
   "outputs": [
    {
     "data": {
      "text/plain": [
       "[0, 1, 2, 3, 4, 5, 6, 7, -5]"
      ]
     },
     "execution_count": 4,
     "metadata": {},
     "output_type": "execute_result"
    }
   ],
   "source": [
    "ListA.remove(-5)\n",
    "ListA"
   ]
  },
  {
   "cell_type": "code",
   "execution_count": 5,
   "metadata": {},
   "outputs": [
    {
     "data": {
      "text/plain": [
       "[0, 1, 2, 3, 4, 5, 6, 7, -5, 4, 5, 6, 7]"
      ]
     },
     "execution_count": 5,
     "metadata": {},
     "output_type": "execute_result"
    }
   ],
   "source": [
    "ListX = ListA + ListB\n",
    "ListX"
   ]
  },
  {
   "cell_type": "code",
   "execution_count": 9,
   "metadata": {},
   "outputs": [
    {
     "name": "stdout",
     "output_type": "stream",
     "text": [
      "1\n",
      "2\n",
      "3\n",
      "\t 4\n",
      "\t 5\n",
      "\t 6\n",
      "\t\t 7\n",
      "\t\t 8\n",
      "\t\t 9\n"
     ]
    }
   ],
   "source": [
    "MyTuple = (1,2,3,(4,5,6,(7,8,9)))\n",
    "for Value1 in MyTuple:\n",
    "    if type(Value1) ==int:\n",
    "        print(Value1)\n",
    "    else:\n",
    "        for Value2 in Value1:\n",
    "            if type(Value2) == int:\n",
    "                print(\"\\t\", Value2)\n",
    "            else:\n",
    "                for Value3 in Value2:\n",
    "                    print (\"\\t\\t\", Value3)"
   ]
  },
  {
   "cell_type": "code",
   "execution_count": 13,
   "metadata": {},
   "outputs": [
    {
     "data": {
      "text/plain": [
       "(1, 2, 3, (4, 5, 6, (7, 8, 9)), 10, 11, 12, (13, 14, 15))"
      ]
     },
     "execution_count": 13,
     "metadata": {},
     "output_type": "execute_result"
    }
   ],
   "source": [
    "MyNewTuple = MyTuple + ((10,11,12,(13,14,15)))\n",
    "MyNewTuple"
   ]
  },
  {
   "cell_type": "code",
   "execution_count": 14,
   "metadata": {},
   "outputs": [
    {
     "name": "stdout",
     "output_type": "stream",
     "text": [
      "1\n",
      "2\n",
      "3\n",
      "\t 4\n",
      "\t 5\n",
      "\t 6\n",
      "\t\t 7\n",
      "\t\t 8\n",
      "\t\t 9\n",
      "10\n",
      "11\n",
      "12\n",
      "\t 13\n",
      "\t 14\n",
      "\t 15\n"
     ]
    }
   ],
   "source": [
    "for Value1 in MyNewTuple:\n",
    "    if type(Value1) ==int:\n",
    "        print(Value1)\n",
    "    else:\n",
    "        for Value2 in Value1:\n",
    "            if type(Value2) == int:\n",
    "                print(\"\\t\", Value2)\n",
    "            else:\n",
    "                for Value3 in Value2:\n",
    "                    print (\"\\t\\t\", Value3)"
   ]
  },
  {
   "cell_type": "code",
   "execution_count": 18,
   "metadata": {},
   "outputs": [
    {
     "name": "stdout",
     "output_type": "stream",
     "text": [
      "2\n",
      "3\n"
     ]
    }
   ],
   "source": [
    "ListA = ['Orange','Yellow','Green','Brown']\n",
    "ListB = [1,2,3,4]\n",
    "for Value in ListB[1:3]:\n",
    "    print(Value)"
   ]
  },
  {
   "cell_type": "code",
   "execution_count": 25,
   "metadata": {},
   "outputs": [
    {
     "name": "stdout",
     "output_type": "stream",
     "text": [
      "Orange \t 1\n",
      "Yellow \t 2\n",
      "Green \t 3\n",
      "Brown \t 4\n"
     ]
    }
   ],
   "source": [
    "for Value1, Value2 in zip(ListA,ListB):\n",
    "    print(Value1, \"\\t\", Value2)"
   ]
  },
  {
   "cell_type": "code",
   "execution_count": 29,
   "metadata": {},
   "outputs": [
    {
     "data": {
      "text/plain": [
       "dict_keys(['Orange', 'Blue', 'Pink'])"
      ]
     },
     "execution_count": 29,
     "metadata": {},
     "output_type": "execute_result"
    }
   ],
   "source": [
    "MyDict = {'Orange':1,'Blue':2,'Pink':3}\n",
    "MyDict['Pink']\n",
    "MyDict.keys()"
   ]
  },
  {
   "cell_type": "code",
   "execution_count": null,
   "metadata": {},
   "outputs": [],
   "source": []
  }
 ],
 "metadata": {
  "kernelspec": {
   "display_name": "Python 3",
   "language": "python",
   "name": "python3"
  },
  "language_info": {
   "codemirror_mode": {
    "name": "ipython",
    "version": 3
   },
   "file_extension": ".py",
   "mimetype": "text/x-python",
   "name": "python",
   "nbconvert_exporter": "python",
   "pygments_lexer": "ipython3",
   "version": "3.6.5"
  }
 },
 "nbformat": 4,
 "nbformat_minor": 2
}
